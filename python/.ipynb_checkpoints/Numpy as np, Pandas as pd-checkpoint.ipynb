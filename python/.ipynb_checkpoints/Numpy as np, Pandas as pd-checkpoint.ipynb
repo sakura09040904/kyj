{
 "cells": [
  {
   "cell_type": "markdown",
   "id": "cc6c4a33",
   "metadata": {},
   "source": [
    "- numpy module method - ndarray\n",
    "    - np.array() : ndarray 생성\n",
    "    - np.arange() : 범위를 지정하여 ndarray 생성\n",
    "    - np.reshape() : 행렬을 지정해서 ndarray 생성\n",
    "    - np.zeros((a,b)) : 초기 값을 0으로하는 a * b 의 ndarray생성\n",
    "    \n",
    "- numpy slicing\n",
    "    - [a:b, c:d] : a부터 b까지(행), c부터 d까지(열) slicing\n",
    "    \n",
    "- numpy의 사칙연산 (differ from List[])\n",
    "    - 각 요소 별로 연산 가능 [a,b]+[c,d] = [a+c, b+d]\n",
    "    - 행렬 곱 연산 가능 : np.dot(array)\n",
    "    - 단, 문자열일때 '+'는 문자열을 연결함."
   ]
  },
  {
   "cell_type": "code",
   "execution_count": 28,
   "id": "7836a832",
   "metadata": {},
   "outputs": [
    {
     "name": "stdout",
     "output_type": "stream",
     "text": [
      "[1 2 3 4 5] \n",
      " <class 'numpy.ndarray'>\n",
      "================================================================================\n",
      "[[10 20 30]\n",
      " [40 50 60]] \n",
      " <class 'numpy.ndarray'>\n",
      "================================================================================\n",
      "[1 3 5 7 9] \n",
      " <class 'numpy.ndarray'>\n",
      "[ 1  2  3  4  5  6  7  8  9 10] \n",
      " <class 'numpy.ndarray'>\n",
      "================================================================================\n",
      "[[ 1  2  3  4  5]\n",
      " [ 6  7  8  9 10]] \n",
      " <class 'numpy.ndarray'>\n",
      "================================================================================\n",
      "[[0. 0. 0. 0. 0. 0.]\n",
      " [0. 0. 0. 0. 0. 0.]\n",
      " [0. 0. 0. 0. 0. 0.]\n",
      " [0. 0. 0. 0. 0. 0.]\n",
      " [0. 0. 0. 0. 0. 0.]] \n",
      " <class 'numpy.ndarray'>\n",
      "================================================================================\n",
      "[[ 0  1  2  3  4  5]\n",
      " [ 6  7  8  9 10 11]\n",
      " [12 13 14 15 16 17]\n",
      " [18 19 20 21 22 23]\n",
      " [24 25 26 27 28 29]] \n",
      " <class 'numpy.ndarray'>\n",
      "[[ 1  2  3]\n",
      " [ 7  8  9]\n",
      " [13 14 15]] \n",
      " <class 'numpy.ndarray'>\n",
      "================================================================================\n",
      "[[240 255 270 285 300 315]\n",
      " [540 580 620 660 700 740]] \n",
      " <class 'numpy.ndarray'>\n"
     ]
    }
   ],
   "source": [
    "import numpy as np\n",
    "\n",
    "ar1 = np.array([1,2,3,4,5]) # 리스트를 사용\n",
    "print(ar1,'\\n',type(ar1))\n",
    "print(\"=\"*80)\n",
    "\n",
    "ar2 = np.array([[10,20,30],[40,50,60]])\n",
    "print(ar2,'\\n',type(ar2))\n",
    "print(\"=\"*80)\n",
    "\n",
    "ar3 = np.arange(1,11,2)\n",
    "print(ar3,'\\n',type(ar3))\n",
    "ar3 = np.arange(1,11)\n",
    "print(ar3,'\\n',type(ar3))\n",
    "print(\"=\"*80)\n",
    "\n",
    "ar4 = ar3.reshape(2,5)\n",
    "print(ar4,'\\n',type(ar4))\n",
    "print(\"=\"*80)\n",
    "# reshape 시에는 행렬의 수와 데이터의 수가 맞아야 함.\n",
    "\n",
    "ar5 = np.zeros((5,6))\n",
    "print(ar5,'\\n',type(ar5))\n",
    "print(\"=\"*80)\n",
    "\n",
    "ar5 = np.arange(0,30).reshape(5,6)\n",
    "print(ar5,'\\n',type(ar5))\n",
    "ar6 = ar5[0:3, 1:4]\n",
    "print(ar6,'\\n',type(ar6))\n",
    "print(\"=\"*80)\n",
    "\n",
    "ar7 = np.dot(ar4,ar5)\n",
    "print(ar7,'\\n',type(ar7))"
   ]
  },
  {
   "cell_type": "markdown",
   "id": "8dec74f5",
   "metadata": {},
   "source": [
    "- pandas as pd \n",
    "    - pd.Series(data, index=[]) :  series 생성. 1차원 자료구조 (with (row)index)\n",
    "    - Series는 Dictionary와 호환 가능. (Key: index)\n",
    "    - pd.DataFrame(data, index=[], column=[]) : data frame 생성. 2차원 자료구조 (with (row)index) or df(DataFrame).index=[], df.column=[]  \n",
    "- print \n",
    "    - df['column'] : 특정 column data를 추출\n",
    "    - df.head() : 앞에서 5개의 행을 출력 \n",
    "    - df.tail(n): 뒤에서 n개의 행을 출력                                                \n",
    "- read & write\n",
    "    - df.to_csv('name.csv', header='')\n",
    "    - pd.read_csv('name.csv', encoding='utf-8', index_col=0)\n",
    "- Indexing \n",
    "    - Se : se1[0](Index number) or se1['1반'](Index data)로 가능\n",
    "    - DF : \n",
    "- Slicing \n",
    "    - Se : se1[2:4] (마지막 포함 x) or se1['2반':'4반'] (마지막 포함 o)"
   ]
  },
  {
   "cell_type": "code",
   "execution_count": 1,
   "id": "90f66060",
   "metadata": {},
   "outputs": [
    {
     "name": "stdout",
     "output_type": "stream",
     "text": [
      "0    1\n",
      "1    2\n",
      "2    3\n",
      "3    4\n",
      "4    5\n",
      "dtype: int64\n",
      "0    1반\n",
      "1    2반\n",
      "2    3반\n",
      "3    4반\n",
      "4    5반\n",
      "dtype: object\n",
      "1반    김철수\n",
      "2반    오영희\n",
      "3반    이영수\n",
      "4반    홍길동\n",
      "5반    박영길\n",
      "dtype: object\n",
      "3반    이영수\n",
      "4반    홍길동\n",
      "dtype: object\n",
      "2반    오영희\n",
      "3반    이영수\n",
      "4반    홍길동\n",
      "dtype: object\n",
      "================================================================================\n"
     ]
    }
   ],
   "source": [
    "import pandas as pd\n",
    "\n",
    "se1 = pd.Series([1,2,3,4,5]) # 리스트로 생성\n",
    "print(se1)\n",
    "\n",
    "se2 = pd.Series(['1반', '2반', '3반', '4반', '5반']) # data type : object\n",
    "print(se2)\n",
    "\n",
    "se3 = pd.Series(['김철수', '오영희', '이영수', '홍길동', '박영길'],index = se2)\n",
    "print(se3)\n",
    "\n",
    "print(se3[2:4]) # se3[4]는 포함하지 않음.\n",
    "print(se3['2반':'4반'])\n",
    "print(\"=\"*80)"
   ]
  },
  {
   "cell_type": "code",
   "execution_count": 4,
   "id": "dfdaf9ed",
   "metadata": {},
   "outputs": [
    {
     "name": "stdout",
     "output_type": "stream",
     "text": [
      "1반    김철수\n",
      "2반    오영희\n",
      "3반    이영수\n",
      "4반    홍길동\n",
      "5반    박영길\n",
      "dtype: object <class 'pandas.core.series.Series'>\n"
     ]
    }
   ],
   "source": [
    "#dictionary를 사용하여 Data Frame 만들기\n",
    "dic1= {'1반':'김철수', '2반':'오영희', '3반':'이영수', '4반':'홍길동', '5반':'박영길'}\n",
    "se = pd.Series(dic1)\n",
    "print(se, type(se))\n",
    "dic2 = {'A':1., 'B': '2021-05-06',\n",
    "       'C':[1,2,3,4],\n",
    "       'D':(5,6,7,8),\n",
    "       'E':'kim',\n",
    "       'F':'lee'}\n",
    "df0 = pd.DataFrame(dic2)\n",
    "print(df0)"
   ]
  },
  {
   "cell_type": "code",
   "execution_count": 7,
   "id": "c670e2f3",
   "metadata": {},
   "outputs": [
    {
     "name": "stdout",
     "output_type": "stream",
     "text": [
      "     A           B  C  D    E    F\n",
      "0  1.0  2021-05-06  1  5  kim  lee\n",
      "1  1.0  2021-05-06  2  6  kim  lee\n",
      "2  1.0  2021-05-06  3  7  kim  lee\n",
      "3  1.0  2021-05-06  4  8  kim  lee\n",
      "    김영희  이영수  박철수\n",
      "국어  100   98   95\n",
      "수학   98   97  100\n",
      "영어   99  100   97\n",
      "================================================================================\n",
      "    김영희  이영수  박철수\n",
      "국어  100   98   95\n",
      "수학   98   97  100\n",
      "영어   99  100   97\n"
     ]
    }
   ],
   "source": [
    "# List를 사용하여 Data Frame 만들기\n",
    "df1 = pd.DataFrame([[100,98,95],[98,97,100],[99,100,97]], index=['국어', '수학', '영어'],\\\n",
    "                    columns=['김영희','이영수','박철수'])\n",
    "print(df1)\n",
    "df1.head()\n",
    "df1.tail(1)\n",
    "print(\"=\"*80)\n",
    "\n",
    "df1.to_csv('score.csv', header='False')\n",
    "df2 = pd.read_csv('score.csv', encoding = 'utf-8', index_col=0)\n",
    "print(df2)"
   ]
  }
 ],
 "metadata": {
  "kernelspec": {
   "display_name": "Python 3",
   "language": "python",
   "name": "python3"
  },
  "language_info": {
   "codemirror_mode": {
    "name": "ipython",
    "version": 3
   },
   "file_extension": ".py",
   "mimetype": "text/x-python",
   "name": "python",
   "nbconvert_exporter": "python",
   "pygments_lexer": "ipython3",
   "version": "3.8.8"
  }
 },
 "nbformat": 4,
 "nbformat_minor": 5
}
