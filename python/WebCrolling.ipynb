{
 "cells": [
  {
   "cell_type": "code",
   "execution_count": 4,
   "id": "6be36d40",
   "metadata": {},
   "outputs": [
    {
     "name": "stdout",
     "output_type": "stream",
     "text": [
      "Requirement already satisfied: beautifulsoup4 in c:\\developer\\anaconda3\\lib\\site-packages (4.9.3)\n",
      "Requirement already satisfied: soupsieve>1.2 in c:\\developer\\anaconda3\\lib\\site-packages (from beautifulsoup4) (2.2.1)\n"
     ]
    }
   ],
   "source": [
    "!pip install beautifulsoup4"
   ]
  },
  {
   "cell_type": "code",
   "execution_count": 5,
   "id": "cb427494",
   "metadata": {},
   "outputs": [
    {
     "name": "stdout",
     "output_type": "stream",
     "text": [
      "1 블랙 위도우\n",
      "2 랑종\n",
      "3 이스케이프 룸 2: 노 웨이 아웃\n",
      "4 스페이스 잼: 새로운 시대\n",
      "5 크루엘라\n",
      "6 발신제한\n",
      "7 오필리아\n",
      "8 꽃다발 같은 사랑을 했다\n",
      "9 킬러의 보디가드 2\n",
      "10 루카\n",
      "11 와인 패밀리\n",
      "12 메이드 인 루프탑\n",
      "13 우리는 매일매일\n",
      "14 인 더 하이츠\n",
      "15 콰이어트 플레이스 2\n",
      "16 체르노빌 1986\n",
      "17 트립 투 그리스\n",
      "18 노매드랜드\n",
      "19 나는 나대로 혼자서 간다\n",
      "20 좀비크러쉬: 헤이리\n",
      "21 빛나는 순간\n",
      "22 남매의 여름밤\n",
      "23 CCTV\n",
      "24 극장판 귀멸의 칼날: 무한열차편\n",
      "25 더 퍼지: 포에버\n",
      "26 자메이카의 소울: 이나 데 야드\n",
      "27 괴기맨숀\n",
      "28 크레센도\n",
      "29 컨저링 3: 악마가 시켰다\n",
      "30 내 남자친구의 결혼식\n",
      "31 이번엔 잘 되겠지\n",
      "32 화이트 온 화이트\n",
      "33 너의 이름은.\n",
      "34 흩어진 밤\n",
      "35 운디네\n",
      "36 여고괴담 여섯번째 이야기 : 모교\n",
      "37 날씨의 아이\n",
      "38 죽어도 좋은 경험\n",
      "39 낫아웃\n",
      "40 초속5센티미터\n",
      "41 에로스\n",
      "42 웬디\n",
      "43 북샵\n",
      "44 인트로덕션\n",
      "45 그레타 툰베리\n",
      "46 미션 임파서블: 루벤\n",
      "47 뱅드림! 로젤리아 에피소드Ⅰ: 약속\n",
      "48 샤먼 로드\n",
      "49 이보다 더 좋을 순 없다\n",
      "50 열아홉\n",
      "51 클라이밍\n",
      "52 그 여름, 가장 차가웠던\n",
      "53 시카다 3301\n",
      "54 식물카페, 온정\n",
      "55 링0 - 버스데이\n",
      "56 매직아치\n",
      "57 분노의 질주: 더 얼티메이트\n",
      "58 온다\n",
      "59 파이프라인\n",
      "60 폭력의 그림자\n",
      "61 극장판 콩순이: 장난감나라 대모험\n",
      "62 기기괴괴 성형수\n",
      "63 나는 나를 해고하지 않는다\n",
      "64 너의 췌장을 먹고 싶어\n",
      "65 러브 액츄얼리\n",
      "66 링\n",
      "67 링 2\n",
      "68 뱅드림! 필름 라이브\n",
      "69 번지 점프를 하다\n",
      "70 부활\n",
      "71 사막의 라이온\n",
      "72 세레나데\n",
      "73 언어의 정원\n",
      "74 욕창\n",
      "75 조제, 호랑이 그리고 물고기들\n",
      "76 청춘 선거\n",
      "77 쾌걸 조로\n",
      "78 페드라\n",
      "79 혼자 사는 사람들\n",
      "80 화양연화\n",
      "81 달맞이꽃\n",
      "82 맹크\n",
      "83 미스 사이공: 25주년 특별 공연\n",
      "84 바람이 우리를 데려다 주리라\n",
      "85 아야와 마녀\n",
      "86 아이들은 즐겁다\n",
      "87 인사이드 르윈\n",
      "88 중경삼림\n",
      "89 초여름\n",
      "90 카리스마\n",
      "91 하나와 앨리스\n",
      "92 하타리\n"
     ]
    }
   ],
   "source": [
    "import bs4\n",
    "import urllib.request\n",
    "\n",
    "web_page = urllib.request.urlopen(\"http://movie.naver.com/movie/running/current.naver\")\n",
    "result = bs4.BeautifulSoup(web_page, \"html.parser\")\n",
    "rank = result.find(class_ = \"lst_detail_t1\")\n",
    "movie_list = rank.find_all('li')\n",
    "for i in range(0,len(movie_list)):\n",
    "    title = movie_list[i].find(class_=\"tit\").find(\"a\").text\n",
    "    print(i+1, title)"
   ]
  }
 ],
 "metadata": {
  "kernelspec": {
   "display_name": "Python 3",
   "language": "python",
   "name": "python3"
  },
  "language_info": {
   "codemirror_mode": {
    "name": "ipython",
    "version": 3
   },
   "file_extension": ".py",
   "mimetype": "text/x-python",
   "name": "python",
   "nbconvert_exporter": "python",
   "pygments_lexer": "ipython3",
   "version": "3.8.8"
  }
 },
 "nbformat": 4,
 "nbformat_minor": 5
}
