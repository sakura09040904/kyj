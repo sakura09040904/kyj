{
 "cells": [
  {
   "cell_type": "code",
   "execution_count": 10,
   "id": "efe396a5",
   "metadata": {},
   "outputs": [
    {
     "name": "stdout",
     "output_type": "stream",
     "text": [
      "score_2011.xlsx\n",
      "                                                    0\n",
      "이름  [[에스쿱스, 정한, 죠슈아, 준, 호시, 원우, 우지, 도겸, 민규, 디에잇, 승...\n",
      "합계  [[460, 440, 480, 477, 444, 448, 449, 509, 453,...\n",
      "평균  [[76, 73, 80, 79, 74, 74, 74, 84, 75, 83, 79, ...\n",
      "                                                    0\n",
      "이름  [[에스쿱스, 정한, 죠슈아, 준, 호시, 원우, 우지, 도겸, 민규, 디에잇, 승...\n",
      "합계  [[460, 440, 480, 477, 444, 448, 449, 509, 453,...\n",
      "평균  [[76, 73, 80, 79, 74, 74, 74, 84, 75, 83, 79, ...\n",
      "score_2012.xlsx\n",
      "                                                    0\n",
      "이름  [[에스쿱스, 정한, 죠슈아, 준, 호시, 원우, 우지, 도겸, 민규, 디에잇, 승...\n",
      "합계  [[460, 440, 480, 477, 444, 448, 449, 509, 453,...\n",
      "평균  [[76, 73, 80, 79, 74, 74, 74, 84, 75, 83, 79, ...\n",
      "                                                    0\n",
      "이름  [[에스쿱스, 정한, 죠슈아, 준, 호시, 원우, 우지, 도겸, 민규, 디에잇, 승...\n",
      "합계  [[460, 440, 480, 477, 444, 448, 449, 509, 453,...\n",
      "평균  [[76, 73, 80, 79, 74, 74, 74, 84, 75, 83, 79, ...\n",
      "                                                    0\n",
      "이름  [[에스쿱스, 정한, 죠슈아, 준, 호시, 원우, 우지, 도겸, 민규, 디에잇, 승...\n",
      "합계  [[460, 440, 480, 477, 444, 448, 449, 509, 453,...\n",
      "평균  [[76, 73, 80, 79, 74, 74, 74, 84, 75, 83, 79, ...\n"
     ]
    }
   ],
   "source": [
    "import os\n",
    "import glob\n",
    "import pandas as pd\n",
    "\n",
    "all_books = glob.glob(os.path.join('C:\\\\kyj\\\\python', 'score_*.xlsx'))\n",
    "names=[]\n",
    "cnt = 0\n",
    "writer=pd.ExcelWriter('total.xlsx')\n",
    "\n",
    "for book in all_books:\n",
    "    all_sheets = pd.read_excel(book, sheet_name=None, index_col=None)\n",
    "    print(os.path.basename(book))\n",
    "    total=[]\n",
    "    mean=[]\n",
    "\n",
    "    for name,data in all_sheets.items():\n",
    "        totals = 0\n",
    "        means = 0\n",
    "        if(cnt == 0):\n",
    "            names.append(data['이름'])\n",
    "            cnt += 1\n",
    "        means = data.mean(axis=1).astype(int)\n",
    "        totals = data.sum(axis=1)\n",
    "        total.append(totals)\n",
    "        mean.append(means)\n",
    "        pd1 = pd.DataFrame([[names],[total],[mean]],index = ['이름','합계','평균'])\n",
    "        print(pd1)\n",
    "        pd1.to_excel(writer)\n",
    "print(pd1)"
   ]
  },
  {
   "cell_type": "code",
   "execution_count": null,
   "id": "5a9bbe47",
   "metadata": {},
   "outputs": [],
   "source": []
  }
 ],
 "metadata": {
  "kernelspec": {
   "display_name": "Python 3",
   "language": "python",
   "name": "python3"
  },
  "language_info": {
   "codemirror_mode": {
    "name": "ipython",
    "version": 3
   },
   "file_extension": ".py",
   "mimetype": "text/x-python",
   "name": "python",
   "nbconvert_exporter": "python",
   "pygments_lexer": "ipython3",
   "version": "3.8.8"
  }
 },
 "nbformat": 4,
 "nbformat_minor": 5
}
