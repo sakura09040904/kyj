{
 "cells": [
  {
   "cell_type": "code",
   "execution_count": null,
   "id": "444c0eed",
   "metadata": {},
   "outputs": [],
   "source": [
    "!pip install pymysql"
   ]
  },
  {
   "cell_type": "code",
   "execution_count": 10,
   "id": "29bda082",
   "metadata": {},
   "outputs": [],
   "source": [
    "import pymysql\n",
    "\n",
    "dbURL = \"localhost\"\n",
    "dbPort = 3306\n",
    "dbUser= \"python\"\n",
    "dbPass = \"12345678\"\n",
    "\n",
    "conn = pymysql.connect(host=dbURL, port=dbPort, user=dbUser, passwd=dbPass, db='test',\\\n",
    "                       charset='utf8', use_unicode=True)"
   ]
  },
  {
   "cell_type": "code",
   "execution_count": 17,
   "id": "9f5142b0",
   "metadata": {},
   "outputs": [
    {
     "name": "stdout",
     "output_type": "stream",
     "text": [
      "((1, 'Kim', 36, '1'), (2, 'Lee', 32, '0')) <class 'tuple'>\n"
     ]
    }
   ],
   "source": [
    "# SELECT* FROM schema.table\n",
    "sql = \"SELECT*FROM test.test\"\n",
    "cur = conn.cursor()\n",
    "cur.execute(sql)\n",
    "result = cur.fetchall()\n",
    "conn.commit()\n",
    "print(result, type(result))"
   ]
  },
  {
   "cell_type": "code",
   "execution_count": 20,
   "id": "73962bc4",
   "metadata": {},
   "outputs": [],
   "source": [
    "sql = \"INSERT INTO test(name,age,enable) VALUES(%s, %s, %s);\"\n",
    "cur = conn.cursor()\n",
    "cur.execute(sql,(\"Pack\", \"30\", \"1\"))\n",
    "conn.commit()"
   ]
  },
  {
   "cell_type": "code",
   "execution_count": null,
   "id": "ec73b28b",
   "metadata": {},
   "outputs": [],
   "source": []
  }
 ],
 "metadata": {
  "kernelspec": {
   "display_name": "Python 3",
   "language": "python",
   "name": "python3"
  },
  "language_info": {
   "codemirror_mode": {
    "name": "ipython",
    "version": 3
   },
   "file_extension": ".py",
   "mimetype": "text/x-python",
   "name": "python",
   "nbconvert_exporter": "python",
   "pygments_lexer": "ipython3",
   "version": "3.8.8"
  }
 },
 "nbformat": 4,
 "nbformat_minor": 5
}
