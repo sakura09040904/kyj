{
 "cells": [
  {
   "cell_type": "code",
   "execution_count": 1,
   "id": "b9855b75",
   "metadata": {},
   "outputs": [
    {
     "name": "stdout",
     "output_type": "stream",
     "text": [
      "Requirement already satisfied: pandas in c:\\developer\\python39\\lib\\site-packages (1.3.0)\n",
      "Requirement already satisfied: numpy>=1.17.3 in c:\\developer\\python39\\lib\\site-packages (from pandas) (1.21.0)\n",
      "Requirement already satisfied: pytz>=2017.3 in c:\\developer\\python39\\lib\\site-packages (from pandas) (2021.1)\n",
      "Requirement already satisfied: python-dateutil>=2.7.3 in c:\\developer\\python39\\lib\\site-packages (from pandas) (2.8.1)\n",
      "Requirement already satisfied: six>=1.5 in c:\\developer\\python39\\lib\\site-packages (from python-dateutil>=2.7.3->pandas) (1.16.0)\n"
     ]
    },
    {
     "name": "stderr",
     "output_type": "stream",
     "text": [
      "WARNING: You are using pip version 21.1.3; however, version 21.2.1 is available.\n",
      "You should consider upgrading via the 'c:\\developer\\python39\\python.exe -m pip install --upgrade pip' command.\n"
     ]
    }
   ],
   "source": [
    "# pandas module 설치\n",
    "!pip install pandas"
   ]
  },
  {
   "cell_type": "code",
   "execution_count": 6,
   "id": "91ccb368",
   "metadata": {},
   "outputs": [
    {
     "name": "stdout",
     "output_type": "stream",
     "text": [
      "int64\n"
     ]
    }
   ],
   "source": [
    "# 실습\n",
    "import pandas as pd\n",
    "s = pd.Series([1, 9, -3, 4])\n",
    "#print(s)\n",
    "\n",
    "#print(s.values) #값 확인\n",
    "#print(s.index) # 인덱스 확인\n",
    "print(s.dtypes) # 자료형 확인"
   ]
  },
  {
   "cell_type": "code",
   "execution_count": 7,
   "id": "96c6ffc8",
   "metadata": {},
   "outputs": [
    {
     "name": "stdout",
     "output_type": "stream",
     "text": [
      "a    1\n",
      "b    9\n",
      "c   -3\n",
      "d    4\n",
      "dtype: int64\n"
     ]
    }
   ],
   "source": [
    "# 인덱스 지정\n",
    "s = pd.Series([1, 9, -3, 4], index=['a', 'b', 'c', 'd'])\n",
    "print(s)"
   ]
  },
  {
   "cell_type": "code",
   "execution_count": 8,
   "id": "063fff65",
   "metadata": {},
   "outputs": [
    {
     "name": "stdout",
     "output_type": "stream",
     "text": [
      "A    3000\n",
      "B    6000\n",
      "C    2000\n",
      "D    4000\n",
      "dtype: int64\n"
     ]
    }
   ],
   "source": [
    "# 사전과 호환\n",
    "dic = {'A':3000, 'B':6000, 'C':2000, 'D':4000}\n",
    "s = pd.Series(dic)\n",
    "print(s)"
   ]
  },
  {
   "cell_type": "code",
   "execution_count": 9,
   "id": "8d23dc5f",
   "metadata": {},
   "outputs": [
    {
     "name": "stdout",
     "output_type": "stream",
     "text": [
      "     A           B  C  D  E    F\n",
      "0  1.0  2021-05-06  1  5  0  Web\n",
      "1  1.0  2021-05-06  2  6  0  Web\n",
      "2  1.0  2021-05-06  3  7  0  Web\n",
      "3  1.0  2021-05-06  4  8  0  Web\n"
     ]
    }
   ],
   "source": [
    "df = pd.DataFrame({'A':1., \n",
    "                  'B':'2021-05-06',\n",
    "                   'C':[1,2,3,4],\n",
    "                   'D':(5,6,7,8),\n",
    "                   'E':0,\n",
    "                   'F':'Web'\n",
    "                  })\n",
    "print(df)"
   ]
  },
  {
   "cell_type": "code",
   "execution_count": 11,
   "id": "227cfd8d",
   "metadata": {},
   "outputs": [
    {
     "name": "stdout",
     "output_type": "stream",
     "text": [
      "RangeIndex(start=0, stop=4, step=1)\n",
      "Index(['A', 'B', 'C', 'D', 'E', 'F'], dtype='object')\n"
     ]
    }
   ],
   "source": [
    "# 인덱스 확인\n",
    "# 행 \n",
    "print(df.index)\n",
    "# 열\n",
    "print(df.columns)"
   ]
  },
  {
   "cell_type": "code",
   "execution_count": 12,
   "id": "29254369",
   "metadata": {},
   "outputs": [
    {
     "name": "stdout",
     "output_type": "stream",
     "text": [
      "  name  year  points\n",
      "0    A  2017     3.5\n",
      "1    B  2018     4.2\n",
      "2    C  2019     2.6\n",
      "3    D  2020     7.4\n",
      "4    E  2021     1.9\n"
     ]
    }
   ],
   "source": [
    "data = {'name':['A', 'B', 'C', 'D', 'E'],\n",
    "       'year':[2017, 2018, 2019, 2020, 2021],\n",
    "       'points':[3.5, 4.2, 2.6, 7.4, 1.9]}\n",
    "df = pd.DataFrame(data)\n",
    "print(df)"
   ]
  },
  {
   "cell_type": "code",
   "execution_count": 13,
   "id": "647ccbfd",
   "metadata": {},
   "outputs": [
    {
     "name": "stdout",
     "output_type": "stream",
     "text": [
      "   year\n",
      "0  2017\n",
      "1  2018\n",
      "2  2019\n",
      "3  2020\n",
      "4  2021\n"
     ]
    }
   ],
   "source": [
    "# 인덱싱[열] 열을 기준으로 데이터 추가 삭제 및 변경 가능\n",
    "print(df[['year']])"
   ]
  },
  {
   "cell_type": "code",
   "execution_count": 14,
   "id": "e860075b",
   "metadata": {},
   "outputs": [
    {
     "name": "stdout",
     "output_type": "stream",
     "text": [
      "   year  points\n",
      "0  2017     3.5\n",
      "1  2018     4.2\n",
      "2  2019     2.6\n",
      "3  2020     7.4\n",
      "4  2021     1.9\n"
     ]
    }
   ],
   "source": [
    "print(df[['year', 'points']])"
   ]
  },
  {
   "cell_type": "code",
   "execution_count": 15,
   "id": "ab352439",
   "metadata": {},
   "outputs": [
    {
     "name": "stdout",
     "output_type": "stream",
     "text": [
      "  name  year  points  new\n",
      "0    A  2017     3.5    1\n",
      "1    B  2018     4.2    2\n",
      "2    C  2019     2.6    3\n",
      "3    D  2020     7.4    4\n",
      "4    E  2021     1.9    5\n"
     ]
    }
   ],
   "source": [
    "# 새로운 열 추가\n",
    "df['new'] = [1,2,3,4,5]\n",
    "print(df)"
   ]
  },
  {
   "cell_type": "code",
   "execution_count": 16,
   "id": "3d783b77",
   "metadata": {},
   "outputs": [
    {
     "name": "stdout",
     "output_type": "stream",
     "text": [
      "  name  year  points  new   past\n",
      "0    A  2017     3.5    1   True\n",
      "1    B  2018     4.2    2   True\n",
      "2    C  2019     2.6    3   True\n",
      "3    D  2020     7.4    4  False\n",
      "4    E  2021     1.9    5  False\n"
     ]
    }
   ],
   "source": [
    "# 조건을 사용하여 새로운 열 추가\n",
    "df['past'] = df['year'] < 2020\n",
    "print(df)"
   ]
  },
  {
   "cell_type": "code",
   "execution_count": 17,
   "id": "1154fbe9",
   "metadata": {},
   "outputs": [
    {
     "name": "stdout",
     "output_type": "stream",
     "text": [
      "  name  year  points  new\n",
      "0    A  2017     3.5    1\n",
      "1    B  2018     4.2    2\n",
      "2    C  2019     2.6    3\n",
      "3    D  2020     7.4    4\n",
      "4    E  2021     1.9    5\n"
     ]
    }
   ],
   "source": [
    "# 삭제\n",
    "del df['past']\n",
    "print(df)"
   ]
  },
  {
   "cell_type": "code",
   "execution_count": 18,
   "id": "51527ca4",
   "metadata": {},
   "outputs": [
    {
     "name": "stdout",
     "output_type": "stream",
     "text": [
      "  name  year  points\n",
      "0    A  2017     3.5\n",
      "1    B  2018     4.2\n",
      "2    C  2019     2.6\n",
      "3    D  2020     7.4\n",
      "4    E  2021     1.9\n"
     ]
    }
   ],
   "source": [
    "# 인덱싱[행] 행을 기준으로 데이터 추가 및 삭제\n",
    "data = {'name':['A', 'B', 'C', 'D', 'E'],\n",
    "       'year':[2017, 2018, 2019, 2020, 2021],\n",
    "       'points':[3.5, 4.2, 2.6, 7.4, 1.9]}\n",
    "df = pd.DataFrame(data)\n",
    "print(df)"
   ]
  },
  {
   "cell_type": "code",
   "execution_count": 19,
   "id": "78fa0b15",
   "metadata": {},
   "outputs": [
    {
     "name": "stdout",
     "output_type": "stream",
     "text": [
      "  name    year  points\n",
      "0    A  2017.0     3.5\n",
      "1    B  2018.0     4.2\n",
      "2    C  2019.0     2.6\n",
      "3    D  2020.0     7.4\n",
      "4    E  2021.0     1.9\n",
      "5    F  2022.0     4.0\n"
     ]
    }
   ],
   "source": [
    "# 새로운 행 추가\n",
    "df.loc[5, :] = ['F', 2022, 4.0]\n",
    "print(df)"
   ]
  },
  {
   "cell_type": "code",
   "execution_count": 21,
   "id": "4fb39902",
   "metadata": {},
   "outputs": [
    {
     "name": "stdout",
     "output_type": "stream",
     "text": [
      "  name    year  points\n",
      "2    C  2019.0     2.6\n",
      "3    D  2020.0     7.4\n"
     ]
    }
   ],
   "source": [
    "# 범위 선택\n",
    "print(df[2:4])"
   ]
  },
  {
   "cell_type": "code",
   "execution_count": 22,
   "id": "3756819a",
   "metadata": {},
   "outputs": [
    {
     "name": "stdout",
     "output_type": "stream",
     "text": [
      "1    B\n",
      "2    C\n",
      "3    D\n",
      "Name: name, dtype: object\n"
     ]
    }
   ],
   "source": [
    "#범위 선택, 특정 열\n",
    "print(df.loc[1:3, 'name'])"
   ]
  },
  {
   "cell_type": "code",
   "execution_count": 25,
   "id": "15575276",
   "metadata": {},
   "outputs": [
    {
     "name": "stdout",
     "output_type": "stream",
     "text": [
      "name      ABCDE\n",
      "year      10095\n",
      "points     19.6\n",
      "dtype: object\n"
     ]
    }
   ],
   "source": [
    "# DataFrame 데이터 분석 : 데이터 분석과 관련 다양한, 함수 제공\n",
    "# sum: 행 또는 열의 합\n",
    "# min, max\n",
    "# mean\n",
    "# median\n",
    "# std, var : 표준편차, 분산\n",
    "# count\n",
    "# sort_values : 정렬\n",
    "# corr, cov : 상관계수, 공분산\n",
    "data = {'name':['A', 'B', 'C', 'D', 'E'],\n",
    "       'year':[2017, 2018, 2019, 2020, 2021],\n",
    "       'points':[3.5, 4.2, 2.6, 7.4, 1.9]}\n",
    "df = pd.DataFrame(data)\n",
    "\n",
    "# 각 행의 합\n",
    "#print(df.sum(axis=1))\n",
    "\n",
    "# 각 열의 합\n",
    "print(df.sum(axis=0))"
   ]
  },
  {
   "cell_type": "code",
   "execution_count": 27,
   "id": "096b3b77",
   "metadata": {},
   "outputs": [
    {
     "name": "stdout",
     "output_type": "stream",
     "text": [
      "       행정구역   총인구수(명)   남자인구수(명)   여자인구수(명)\n",
      "0        전국  51672400    4649442    4916548\n",
      "1     부산광역시   9565990    1647291    1717067\n",
      "2     대구광역시   2397646    1182380    1215266\n",
      "3     인천광역시   2936367    1470544    1465823\n",
      "4     광주광역시   1442647     713793     728854\n",
      "5     대전광역시   1456107     726666     729441\n",
      "6     울산광역시   1126369     578924     547445\n",
      "7   세종특별자치시    362995     181328     181667\n",
      "8       경기도  13500688    6795088    6705600\n",
      "9       강원도   1535530     772949     762581\n",
      "10     충청북도   1597503     810225     787278\n",
      "11     충청남도   2117400    1082113    1035287\n",
      "12     전라북도   1794345     892670     901675\n",
      "13     전라남도   1840921     926398     914523\n",
      "14     경상북도   2632401    1326844    1305557\n",
      "15     경상남도   3325840    1674612    1651228\n",
      "16  제주특별자치도    675293     338766     336527\n"
     ]
    }
   ],
   "source": [
    "# pandas에서 dataf frame은 table일 뿐이다.\n",
    "# File read and load to data frame\n",
    "# read_csv 함수를 이용하여 cities.csv 파일을 읽고 df으로 로드한다.\n",
    "# cities.csv 파일에는 2021년 06월 기준, 행정구역별, 성별 인구수가 저장되어 있다.\n",
    "# https://kosis.kr/statHtml/statHtml.do?orgId=101&tblId=DT_1B040A3&vw_cd=MT_ZTITLE&list_id=A_7&seqNo=&lang_mode=ko&language=kor&obj_var_id=&itm_id=&conn_path=MT_ZTITLE\n",
    "df = pd.read_csv(\"cities.csv\")\n",
    "\n",
    "print(df)\n",
    "\n",
    "# 파일을 저장하는 것도 비슷한 방법으로 한다.\n",
    "df.to_csv(\"cities_new.csv\")"
   ]
  },
  {
   "cell_type": "code",
   "execution_count": 30,
   "id": "ad8e2bae",
   "metadata": {},
   "outputs": [
    {
     "data": {
      "text/html": [
       "<div>\n",
       "<style scoped>\n",
       "    .dataframe tbody tr th:only-of-type {\n",
       "        vertical-align: middle;\n",
       "    }\n",
       "\n",
       "    .dataframe tbody tr th {\n",
       "        vertical-align: top;\n",
       "    }\n",
       "\n",
       "    .dataframe thead th {\n",
       "        text-align: right;\n",
       "    }\n",
       "</style>\n",
       "<table border=\"1\" class=\"dataframe\">\n",
       "  <thead>\n",
       "    <tr style=\"text-align: right;\">\n",
       "      <th></th>\n",
       "      <th>행정구역</th>\n",
       "      <th>총인구수(명)</th>\n",
       "      <th>남자인구수(명)</th>\n",
       "      <th>여자인구수(명)</th>\n",
       "    </tr>\n",
       "  </thead>\n",
       "  <tbody>\n",
       "    <tr>\n",
       "      <th>0</th>\n",
       "      <td>전국</td>\n",
       "      <td>51672400</td>\n",
       "      <td>4649442</td>\n",
       "      <td>4916548</td>\n",
       "    </tr>\n",
       "    <tr>\n",
       "      <th>1</th>\n",
       "      <td>부산광역시</td>\n",
       "      <td>9565990</td>\n",
       "      <td>1647291</td>\n",
       "      <td>1717067</td>\n",
       "    </tr>\n",
       "    <tr>\n",
       "      <th>2</th>\n",
       "      <td>대구광역시</td>\n",
       "      <td>2397646</td>\n",
       "      <td>1182380</td>\n",
       "      <td>1215266</td>\n",
       "    </tr>\n",
       "    <tr>\n",
       "      <th>3</th>\n",
       "      <td>인천광역시</td>\n",
       "      <td>2936367</td>\n",
       "      <td>1470544</td>\n",
       "      <td>1465823</td>\n",
       "    </tr>\n",
       "    <tr>\n",
       "      <th>4</th>\n",
       "      <td>광주광역시</td>\n",
       "      <td>1442647</td>\n",
       "      <td>713793</td>\n",
       "      <td>728854</td>\n",
       "    </tr>\n",
       "    <tr>\n",
       "      <th>5</th>\n",
       "      <td>대전광역시</td>\n",
       "      <td>1456107</td>\n",
       "      <td>726666</td>\n",
       "      <td>729441</td>\n",
       "    </tr>\n",
       "    <tr>\n",
       "      <th>6</th>\n",
       "      <td>울산광역시</td>\n",
       "      <td>1126369</td>\n",
       "      <td>578924</td>\n",
       "      <td>547445</td>\n",
       "    </tr>\n",
       "  </tbody>\n",
       "</table>\n",
       "</div>"
      ],
      "text/plain": [
       "    행정구역   총인구수(명)   남자인구수(명)   여자인구수(명)\n",
       "0     전국  51672400    4649442    4916548\n",
       "1  부산광역시   9565990    1647291    1717067\n",
       "2  대구광역시   2397646    1182380    1215266\n",
       "3  인천광역시   2936367    1470544    1465823\n",
       "4  광주광역시   1442647     713793     728854\n",
       "5  대전광역시   1456107     726666     729441\n",
       "6  울산광역시   1126369     578924     547445"
      ]
     },
     "execution_count": 30,
     "metadata": {},
     "output_type": "execute_result"
    }
   ],
   "source": [
    "# Viewing Data Frame\n",
    "# 파일의 내용을 살펴보자\n",
    "df.head(7)\n",
    "# rlqhswjrdmfh 처음 5 라인이 디스플레이 된다.\n",
    "# df.head(3)은 처음 3개 라인을 디스플레이할 것이다."
   ]
  },
  {
   "cell_type": "code",
   "execution_count": 29,
   "id": "75353a3d",
   "metadata": {},
   "outputs": [
    {
     "data": {
      "text/html": [
       "<div>\n",
       "<style scoped>\n",
       "    .dataframe tbody tr th:only-of-type {\n",
       "        vertical-align: middle;\n",
       "    }\n",
       "\n",
       "    .dataframe tbody tr th {\n",
       "        vertical-align: top;\n",
       "    }\n",
       "\n",
       "    .dataframe thead th {\n",
       "        text-align: right;\n",
       "    }\n",
       "</style>\n",
       "<table border=\"1\" class=\"dataframe\">\n",
       "  <thead>\n",
       "    <tr style=\"text-align: right;\">\n",
       "      <th></th>\n",
       "      <th>행정구역</th>\n",
       "      <th>총인구수(명)</th>\n",
       "      <th>남자인구수(명)</th>\n",
       "      <th>여자인구수(명)</th>\n",
       "    </tr>\n",
       "  </thead>\n",
       "  <tbody>\n",
       "    <tr>\n",
       "      <th>12</th>\n",
       "      <td>전라북도</td>\n",
       "      <td>1794345</td>\n",
       "      <td>892670</td>\n",
       "      <td>901675</td>\n",
       "    </tr>\n",
       "    <tr>\n",
       "      <th>13</th>\n",
       "      <td>전라남도</td>\n",
       "      <td>1840921</td>\n",
       "      <td>926398</td>\n",
       "      <td>914523</td>\n",
       "    </tr>\n",
       "    <tr>\n",
       "      <th>14</th>\n",
       "      <td>경상북도</td>\n",
       "      <td>2632401</td>\n",
       "      <td>1326844</td>\n",
       "      <td>1305557</td>\n",
       "    </tr>\n",
       "    <tr>\n",
       "      <th>15</th>\n",
       "      <td>경상남도</td>\n",
       "      <td>3325840</td>\n",
       "      <td>1674612</td>\n",
       "      <td>1651228</td>\n",
       "    </tr>\n",
       "    <tr>\n",
       "      <th>16</th>\n",
       "      <td>제주특별자치도</td>\n",
       "      <td>675293</td>\n",
       "      <td>338766</td>\n",
       "      <td>336527</td>\n",
       "    </tr>\n",
       "  </tbody>\n",
       "</table>\n",
       "</div>"
      ],
      "text/plain": [
       "       행정구역   총인구수(명)   남자인구수(명)   여자인구수(명)\n",
       "12     전라북도   1794345     892670     901675\n",
       "13     전라남도   1840921     926398     914523\n",
       "14     경상북도   2632401    1326844    1305557\n",
       "15     경상남도   3325840    1674612    1651228\n",
       "16  제주특별자치도    675293     338766     336527"
      ]
     },
     "execution_count": 29,
     "metadata": {},
     "output_type": "execute_result"
    }
   ],
   "source": [
    "df.tail()"
   ]
  },
  {
   "cell_type": "code",
   "execution_count": 31,
   "id": "1e686bbf",
   "metadata": {},
   "outputs": [
    {
     "name": "stdout",
     "output_type": "stream",
     "text": [
      "<class 'pandas.core.frame.DataFrame'>\n",
      "RangeIndex: 17 entries, 0 to 16\n",
      "Data columns (total 4 columns):\n",
      " #   Column     Non-Null Count  Dtype \n",
      "---  ------     --------------  ----- \n",
      " 0   행정구역       17 non-null     object\n",
      " 1    총인구수(명)   17 non-null     int64 \n",
      " 2    남자인구수(명)  17 non-null     int64 \n",
      " 3    여자인구수(명)  17 non-null     int64 \n",
      "dtypes: int64(3), object(1)\n",
      "memory usage: 672.0+ bytes\n"
     ]
    }
   ],
   "source": [
    "df.info()"
   ]
  },
  {
   "cell_type": "code",
   "execution_count": 32,
   "id": "074fe7ce",
   "metadata": {},
   "outputs": [
    {
     "data": {
      "text/plain": [
       "(17, 4)"
      ]
     },
     "execution_count": 32,
     "metadata": {},
     "output_type": "execute_result"
    }
   ],
   "source": [
    "# df.shape는 행과 열의 수를 빠르게 확인할 수 있다.\n",
    "df.shape"
   ]
  },
  {
   "cell_type": "code",
   "execution_count": 33,
   "id": "e735a18d",
   "metadata": {},
   "outputs": [
    {
     "data": {
      "text/html": [
       "<div>\n",
       "<style scoped>\n",
       "    .dataframe tbody tr th:only-of-type {\n",
       "        vertical-align: middle;\n",
       "    }\n",
       "\n",
       "    .dataframe tbody tr th {\n",
       "        vertical-align: top;\n",
       "    }\n",
       "\n",
       "    .dataframe thead th {\n",
       "        text-align: right;\n",
       "    }\n",
       "</style>\n",
       "<table border=\"1\" class=\"dataframe\">\n",
       "  <thead>\n",
       "    <tr style=\"text-align: right;\">\n",
       "      <th></th>\n",
       "      <th>총인구수(명)</th>\n",
       "      <th>남자인구수(명)</th>\n",
       "      <th>여자인구수(명)</th>\n",
       "    </tr>\n",
       "  </thead>\n",
       "  <tbody>\n",
       "    <tr>\n",
       "      <th>count</th>\n",
       "      <td>1.700000e+01</td>\n",
       "      <td>1.700000e+01</td>\n",
       "      <td>1.700000e+01</td>\n",
       "    </tr>\n",
       "    <tr>\n",
       "      <th>mean</th>\n",
       "      <td>5.881202e+06</td>\n",
       "      <td>1.515884e+06</td>\n",
       "      <td>1.523669e+06</td>\n",
       "    </tr>\n",
       "    <tr>\n",
       "      <th>std</th>\n",
       "      <td>1.227352e+07</td>\n",
       "      <td>1.680130e+06</td>\n",
       "      <td>1.697563e+06</td>\n",
       "    </tr>\n",
       "    <tr>\n",
       "      <th>min</th>\n",
       "      <td>3.629950e+05</td>\n",
       "      <td>1.813280e+05</td>\n",
       "      <td>1.816670e+05</td>\n",
       "    </tr>\n",
       "    <tr>\n",
       "      <th>25%</th>\n",
       "      <td>1.456107e+06</td>\n",
       "      <td>7.266660e+05</td>\n",
       "      <td>7.294410e+05</td>\n",
       "    </tr>\n",
       "    <tr>\n",
       "      <th>50%</th>\n",
       "      <td>1.840921e+06</td>\n",
       "      <td>9.263980e+05</td>\n",
       "      <td>9.145230e+05</td>\n",
       "    </tr>\n",
       "    <tr>\n",
       "      <th>75%</th>\n",
       "      <td>2.936367e+06</td>\n",
       "      <td>1.470544e+06</td>\n",
       "      <td>1.465823e+06</td>\n",
       "    </tr>\n",
       "    <tr>\n",
       "      <th>max</th>\n",
       "      <td>5.167240e+07</td>\n",
       "      <td>6.795088e+06</td>\n",
       "      <td>6.705600e+06</td>\n",
       "    </tr>\n",
       "  </tbody>\n",
       "</table>\n",
       "</div>"
      ],
      "text/plain": [
       "            총인구수(명)      남자인구수(명)      여자인구수(명)\n",
       "count  1.700000e+01  1.700000e+01  1.700000e+01\n",
       "mean   5.881202e+06  1.515884e+06  1.523669e+06\n",
       "std    1.227352e+07  1.680130e+06  1.697563e+06\n",
       "min    3.629950e+05  1.813280e+05  1.816670e+05\n",
       "25%    1.456107e+06  7.266660e+05  7.294410e+05\n",
       "50%    1.840921e+06  9.263980e+05  9.145230e+05\n",
       "75%    2.936367e+06  1.470544e+06  1.465823e+06\n",
       "max    5.167240e+07  6.795088e+06  6.705600e+06"
      ]
     },
     "execution_count": 33,
     "metadata": {},
     "output_type": "execute_result"
    }
   ],
   "source": [
    "df.describe()"
   ]
  },
  {
   "cell_type": "code",
   "execution_count": null,
   "id": "ec6890b7",
   "metadata": {},
   "outputs": [],
   "source": [
    "#1. 타이타닉 데이터를 df형태로 읽어오세요.\n",
    "#2. df 출력해보고\n",
    "#3. head(), tail(), info(), shape, describe"
   ]
  },
  {
   "cell_type": "code",
   "execution_count": 35,
   "id": "ef369d0f",
   "metadata": {},
   "outputs": [
    {
     "name": "stdout",
     "output_type": "stream",
     "text": [
      "     Unnamed: 0  Survived  Pclass     Sex        Age     Fare Embarked  \\\n",
      "0             0         0       3    male  22.000000   7.2500        S   \n",
      "1             1         1       1  female  38.000000  71.2833        C   \n",
      "2             2         1       3  female  26.000000   7.9250        S   \n",
      "3             3         1       1  female  35.000000  53.1000        S   \n",
      "4             4         0       3    male  35.000000   8.0500        S   \n",
      "..          ...       ...     ...     ...        ...      ...      ...   \n",
      "886         886         0       2    male  27.000000  13.0000        S   \n",
      "887         887         1       1  female  19.000000  30.0000        S   \n",
      "888         888         0       3  female  29.699118  23.4500        S   \n",
      "889         889         1       1    male  26.000000  30.0000        C   \n",
      "890         890         0       3    male  32.000000   7.7500        Q   \n",
      "\n",
      "      Class  Adult_Male   Embarktown  \n",
      "0     Third        True  Southampton  \n",
      "1     First       False    Cherbourg  \n",
      "2     Third       False  Southampton  \n",
      "3     First       False  Southampton  \n",
      "4     Third        True  Southampton  \n",
      "..      ...         ...          ...  \n",
      "886  Second        True  Southampton  \n",
      "887   First       False  Southampton  \n",
      "888   Third       False  Southampton  \n",
      "889   First        True    Cherbourg  \n",
      "890   Third        True   Queenstown  \n",
      "\n",
      "[891 rows x 10 columns]\n"
     ]
    }
   ],
   "source": [
    "#1. csv파일 데이터를 df로 읽어오기\n",
    "df = pd.read_csv(\"titanic.csv\")\n",
    "print(df)"
   ]
  },
  {
   "cell_type": "code",
   "execution_count": 36,
   "id": "bb248424",
   "metadata": {},
   "outputs": [
    {
     "data": {
      "text/html": [
       "<div>\n",
       "<style scoped>\n",
       "    .dataframe tbody tr th:only-of-type {\n",
       "        vertical-align: middle;\n",
       "    }\n",
       "\n",
       "    .dataframe tbody tr th {\n",
       "        vertical-align: top;\n",
       "    }\n",
       "\n",
       "    .dataframe thead th {\n",
       "        text-align: right;\n",
       "    }\n",
       "</style>\n",
       "<table border=\"1\" class=\"dataframe\">\n",
       "  <thead>\n",
       "    <tr style=\"text-align: right;\">\n",
       "      <th></th>\n",
       "      <th>Unnamed: 0</th>\n",
       "      <th>Survived</th>\n",
       "      <th>Pclass</th>\n",
       "      <th>Sex</th>\n",
       "      <th>Age</th>\n",
       "      <th>Fare</th>\n",
       "      <th>Embarked</th>\n",
       "      <th>Class</th>\n",
       "      <th>Adult_Male</th>\n",
       "      <th>Embarktown</th>\n",
       "    </tr>\n",
       "  </thead>\n",
       "  <tbody>\n",
       "    <tr>\n",
       "      <th>0</th>\n",
       "      <td>0</td>\n",
       "      <td>0</td>\n",
       "      <td>3</td>\n",
       "      <td>male</td>\n",
       "      <td>22.0</td>\n",
       "      <td>7.2500</td>\n",
       "      <td>S</td>\n",
       "      <td>Third</td>\n",
       "      <td>True</td>\n",
       "      <td>Southampton</td>\n",
       "    </tr>\n",
       "    <tr>\n",
       "      <th>1</th>\n",
       "      <td>1</td>\n",
       "      <td>1</td>\n",
       "      <td>1</td>\n",
       "      <td>female</td>\n",
       "      <td>38.0</td>\n",
       "      <td>71.2833</td>\n",
       "      <td>C</td>\n",
       "      <td>First</td>\n",
       "      <td>False</td>\n",
       "      <td>Cherbourg</td>\n",
       "    </tr>\n",
       "    <tr>\n",
       "      <th>2</th>\n",
       "      <td>2</td>\n",
       "      <td>1</td>\n",
       "      <td>3</td>\n",
       "      <td>female</td>\n",
       "      <td>26.0</td>\n",
       "      <td>7.9250</td>\n",
       "      <td>S</td>\n",
       "      <td>Third</td>\n",
       "      <td>False</td>\n",
       "      <td>Southampton</td>\n",
       "    </tr>\n",
       "    <tr>\n",
       "      <th>3</th>\n",
       "      <td>3</td>\n",
       "      <td>1</td>\n",
       "      <td>1</td>\n",
       "      <td>female</td>\n",
       "      <td>35.0</td>\n",
       "      <td>53.1000</td>\n",
       "      <td>S</td>\n",
       "      <td>First</td>\n",
       "      <td>False</td>\n",
       "      <td>Southampton</td>\n",
       "    </tr>\n",
       "    <tr>\n",
       "      <th>4</th>\n",
       "      <td>4</td>\n",
       "      <td>0</td>\n",
       "      <td>3</td>\n",
       "      <td>male</td>\n",
       "      <td>35.0</td>\n",
       "      <td>8.0500</td>\n",
       "      <td>S</td>\n",
       "      <td>Third</td>\n",
       "      <td>True</td>\n",
       "      <td>Southampton</td>\n",
       "    </tr>\n",
       "  </tbody>\n",
       "</table>\n",
       "</div>"
      ],
      "text/plain": [
       "   Unnamed: 0  Survived  Pclass     Sex   Age     Fare Embarked  Class  \\\n",
       "0           0         0       3    male  22.0   7.2500        S  Third   \n",
       "1           1         1       1  female  38.0  71.2833        C  First   \n",
       "2           2         1       3  female  26.0   7.9250        S  Third   \n",
       "3           3         1       1  female  35.0  53.1000        S  First   \n",
       "4           4         0       3    male  35.0   8.0500        S  Third   \n",
       "\n",
       "   Adult_Male   Embarktown  \n",
       "0        True  Southampton  \n",
       "1       False    Cherbourg  \n",
       "2       False  Southampton  \n",
       "3       False  Southampton  \n",
       "4        True  Southampton  "
      ]
     },
     "execution_count": 36,
     "metadata": {},
     "output_type": "execute_result"
    }
   ],
   "source": [
    "df.head()"
   ]
  },
  {
   "cell_type": "code",
   "execution_count": 37,
   "id": "7b8b67e4",
   "metadata": {},
   "outputs": [
    {
     "data": {
      "text/html": [
       "<div>\n",
       "<style scoped>\n",
       "    .dataframe tbody tr th:only-of-type {\n",
       "        vertical-align: middle;\n",
       "    }\n",
       "\n",
       "    .dataframe tbody tr th {\n",
       "        vertical-align: top;\n",
       "    }\n",
       "\n",
       "    .dataframe thead th {\n",
       "        text-align: right;\n",
       "    }\n",
       "</style>\n",
       "<table border=\"1\" class=\"dataframe\">\n",
       "  <thead>\n",
       "    <tr style=\"text-align: right;\">\n",
       "      <th></th>\n",
       "      <th>Unnamed: 0</th>\n",
       "      <th>Survived</th>\n",
       "      <th>Pclass</th>\n",
       "      <th>Sex</th>\n",
       "      <th>Age</th>\n",
       "      <th>Fare</th>\n",
       "      <th>Embarked</th>\n",
       "      <th>Class</th>\n",
       "      <th>Adult_Male</th>\n",
       "      <th>Embarktown</th>\n",
       "    </tr>\n",
       "  </thead>\n",
       "  <tbody>\n",
       "    <tr>\n",
       "      <th>886</th>\n",
       "      <td>886</td>\n",
       "      <td>0</td>\n",
       "      <td>2</td>\n",
       "      <td>male</td>\n",
       "      <td>27.000000</td>\n",
       "      <td>13.00</td>\n",
       "      <td>S</td>\n",
       "      <td>Second</td>\n",
       "      <td>True</td>\n",
       "      <td>Southampton</td>\n",
       "    </tr>\n",
       "    <tr>\n",
       "      <th>887</th>\n",
       "      <td>887</td>\n",
       "      <td>1</td>\n",
       "      <td>1</td>\n",
       "      <td>female</td>\n",
       "      <td>19.000000</td>\n",
       "      <td>30.00</td>\n",
       "      <td>S</td>\n",
       "      <td>First</td>\n",
       "      <td>False</td>\n",
       "      <td>Southampton</td>\n",
       "    </tr>\n",
       "    <tr>\n",
       "      <th>888</th>\n",
       "      <td>888</td>\n",
       "      <td>0</td>\n",
       "      <td>3</td>\n",
       "      <td>female</td>\n",
       "      <td>29.699118</td>\n",
       "      <td>23.45</td>\n",
       "      <td>S</td>\n",
       "      <td>Third</td>\n",
       "      <td>False</td>\n",
       "      <td>Southampton</td>\n",
       "    </tr>\n",
       "    <tr>\n",
       "      <th>889</th>\n",
       "      <td>889</td>\n",
       "      <td>1</td>\n",
       "      <td>1</td>\n",
       "      <td>male</td>\n",
       "      <td>26.000000</td>\n",
       "      <td>30.00</td>\n",
       "      <td>C</td>\n",
       "      <td>First</td>\n",
       "      <td>True</td>\n",
       "      <td>Cherbourg</td>\n",
       "    </tr>\n",
       "    <tr>\n",
       "      <th>890</th>\n",
       "      <td>890</td>\n",
       "      <td>0</td>\n",
       "      <td>3</td>\n",
       "      <td>male</td>\n",
       "      <td>32.000000</td>\n",
       "      <td>7.75</td>\n",
       "      <td>Q</td>\n",
       "      <td>Third</td>\n",
       "      <td>True</td>\n",
       "      <td>Queenstown</td>\n",
       "    </tr>\n",
       "  </tbody>\n",
       "</table>\n",
       "</div>"
      ],
      "text/plain": [
       "     Unnamed: 0  Survived  Pclass     Sex        Age   Fare Embarked   Class  \\\n",
       "886         886         0       2    male  27.000000  13.00        S  Second   \n",
       "887         887         1       1  female  19.000000  30.00        S   First   \n",
       "888         888         0       3  female  29.699118  23.45        S   Third   \n",
       "889         889         1       1    male  26.000000  30.00        C   First   \n",
       "890         890         0       3    male  32.000000   7.75        Q   Third   \n",
       "\n",
       "     Adult_Male   Embarktown  \n",
       "886        True  Southampton  \n",
       "887       False  Southampton  \n",
       "888       False  Southampton  \n",
       "889        True    Cherbourg  \n",
       "890        True   Queenstown  "
      ]
     },
     "execution_count": 37,
     "metadata": {},
     "output_type": "execute_result"
    }
   ],
   "source": [
    "df.tail()"
   ]
  },
  {
   "cell_type": "code",
   "execution_count": 38,
   "id": "4198fb9f",
   "metadata": {},
   "outputs": [
    {
     "name": "stdout",
     "output_type": "stream",
     "text": [
      "<class 'pandas.core.frame.DataFrame'>\n",
      "RangeIndex: 891 entries, 0 to 890\n",
      "Data columns (total 10 columns):\n",
      " #   Column      Non-Null Count  Dtype  \n",
      "---  ------      --------------  -----  \n",
      " 0   Unnamed: 0  891 non-null    int64  \n",
      " 1   Survived    891 non-null    int64  \n",
      " 2   Pclass      891 non-null    int64  \n",
      " 3   Sex         891 non-null    object \n",
      " 4   Age         891 non-null    float64\n",
      " 5   Fare        891 non-null    float64\n",
      " 6   Embarked    889 non-null    object \n",
      " 7   Class       891 non-null    object \n",
      " 8   Adult_Male  891 non-null    bool   \n",
      " 9   Embarktown  889 non-null    object \n",
      "dtypes: bool(1), float64(2), int64(3), object(4)\n",
      "memory usage: 63.6+ KB\n"
     ]
    }
   ],
   "source": [
    "df.info()"
   ]
  },
  {
   "cell_type": "code",
   "execution_count": 39,
   "id": "0a99d428",
   "metadata": {},
   "outputs": [
    {
     "data": {
      "text/plain": [
       "(891, 10)"
      ]
     },
     "execution_count": 39,
     "metadata": {},
     "output_type": "execute_result"
    }
   ],
   "source": [
    "df.shape"
   ]
  },
  {
   "cell_type": "code",
   "execution_count": 40,
   "id": "b10ec264",
   "metadata": {},
   "outputs": [
    {
     "data": {
      "text/html": [
       "<div>\n",
       "<style scoped>\n",
       "    .dataframe tbody tr th:only-of-type {\n",
       "        vertical-align: middle;\n",
       "    }\n",
       "\n",
       "    .dataframe tbody tr th {\n",
       "        vertical-align: top;\n",
       "    }\n",
       "\n",
       "    .dataframe thead th {\n",
       "        text-align: right;\n",
       "    }\n",
       "</style>\n",
       "<table border=\"1\" class=\"dataframe\">\n",
       "  <thead>\n",
       "    <tr style=\"text-align: right;\">\n",
       "      <th></th>\n",
       "      <th>Unnamed: 0</th>\n",
       "      <th>Survived</th>\n",
       "      <th>Pclass</th>\n",
       "      <th>Age</th>\n",
       "      <th>Fare</th>\n",
       "    </tr>\n",
       "  </thead>\n",
       "  <tbody>\n",
       "    <tr>\n",
       "      <th>count</th>\n",
       "      <td>891.000000</td>\n",
       "      <td>891.000000</td>\n",
       "      <td>891.000000</td>\n",
       "      <td>891.000000</td>\n",
       "      <td>891.000000</td>\n",
       "    </tr>\n",
       "    <tr>\n",
       "      <th>mean</th>\n",
       "      <td>445.000000</td>\n",
       "      <td>0.383838</td>\n",
       "      <td>2.308642</td>\n",
       "      <td>29.699118</td>\n",
       "      <td>32.204208</td>\n",
       "    </tr>\n",
       "    <tr>\n",
       "      <th>std</th>\n",
       "      <td>257.353842</td>\n",
       "      <td>0.486592</td>\n",
       "      <td>0.836071</td>\n",
       "      <td>13.002015</td>\n",
       "      <td>49.693429</td>\n",
       "    </tr>\n",
       "    <tr>\n",
       "      <th>min</th>\n",
       "      <td>0.000000</td>\n",
       "      <td>0.000000</td>\n",
       "      <td>1.000000</td>\n",
       "      <td>0.420000</td>\n",
       "      <td>0.000000</td>\n",
       "    </tr>\n",
       "    <tr>\n",
       "      <th>25%</th>\n",
       "      <td>222.500000</td>\n",
       "      <td>0.000000</td>\n",
       "      <td>2.000000</td>\n",
       "      <td>22.000000</td>\n",
       "      <td>7.910400</td>\n",
       "    </tr>\n",
       "    <tr>\n",
       "      <th>50%</th>\n",
       "      <td>445.000000</td>\n",
       "      <td>0.000000</td>\n",
       "      <td>3.000000</td>\n",
       "      <td>29.699118</td>\n",
       "      <td>14.454200</td>\n",
       "    </tr>\n",
       "    <tr>\n",
       "      <th>75%</th>\n",
       "      <td>667.500000</td>\n",
       "      <td>1.000000</td>\n",
       "      <td>3.000000</td>\n",
       "      <td>35.000000</td>\n",
       "      <td>31.000000</td>\n",
       "    </tr>\n",
       "    <tr>\n",
       "      <th>max</th>\n",
       "      <td>890.000000</td>\n",
       "      <td>1.000000</td>\n",
       "      <td>3.000000</td>\n",
       "      <td>80.000000</td>\n",
       "      <td>512.329200</td>\n",
       "    </tr>\n",
       "  </tbody>\n",
       "</table>\n",
       "</div>"
      ],
      "text/plain": [
       "       Unnamed: 0    Survived      Pclass         Age        Fare\n",
       "count  891.000000  891.000000  891.000000  891.000000  891.000000\n",
       "mean   445.000000    0.383838    2.308642   29.699118   32.204208\n",
       "std    257.353842    0.486592    0.836071   13.002015   49.693429\n",
       "min      0.000000    0.000000    1.000000    0.420000    0.000000\n",
       "25%    222.500000    0.000000    2.000000   22.000000    7.910400\n",
       "50%    445.000000    0.000000    3.000000   29.699118   14.454200\n",
       "75%    667.500000    1.000000    3.000000   35.000000   31.000000\n",
       "max    890.000000    1.000000    3.000000   80.000000  512.329200"
      ]
     },
     "execution_count": 40,
     "metadata": {},
     "output_type": "execute_result"
    }
   ],
   "source": [
    "df.describe()"
   ]
  },
  {
   "cell_type": "code",
   "execution_count": null,
   "id": "3e0c5e7a",
   "metadata": {},
   "outputs": [],
   "source": []
  }
 ],
 "metadata": {
  "kernelspec": {
   "display_name": "Python 3 (ipykernel)",
   "language": "python",
   "name": "python3"
  },
  "language_info": {
   "codemirror_mode": {
    "name": "ipython",
    "version": 3
   },
   "file_extension": ".py",
   "mimetype": "text/x-python",
   "name": "python",
   "nbconvert_exporter": "python",
   "pygments_lexer": "ipython3",
   "version": "3.9.6"
  }
 },
 "nbformat": 4,
 "nbformat_minor": 5
}
