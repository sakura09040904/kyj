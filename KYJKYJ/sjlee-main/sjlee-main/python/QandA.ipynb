{
 "cells": [
  {
   "cell_type": "code",
   "execution_count": 2,
   "id": "d235621c",
   "metadata": {},
   "outputs": [
    {
     "name": "stdout",
     "output_type": "stream",
     "text": [
      "Requirement already satisfied: pandas in c:\\developer\\python39\\lib\\site-packages (1.3.0)\n",
      "Requirement already satisfied: numpy>=1.17.3 in c:\\developer\\python39\\lib\\site-packages (from pandas) (1.21.0)\n",
      "Requirement already satisfied: pytz>=2017.3 in c:\\developer\\python39\\lib\\site-packages (from pandas) (2021.1)\n",
      "Requirement already satisfied: python-dateutil>=2.7.3 in c:\\developer\\python39\\lib\\site-packages (from pandas) (2.8.1)\n",
      "Requirement already satisfied: six>=1.5 in c:\\developer\\python39\\lib\\site-packages (from python-dateutil>=2.7.3->pandas) (1.16.0)\n"
     ]
    }
   ],
   "source": [
    "!pip install pandas"
   ]
  },
  {
   "cell_type": "code",
   "execution_count": 6,
   "id": "44edebc9",
   "metadata": {},
   "outputs": [
    {
     "name": "stdout",
     "output_type": "stream",
     "text": [
      "Collecting openpyxl\n",
      "  Downloading openpyxl-3.0.7-py2.py3-none-any.whl (243 kB)\n",
      "Collecting et-xmlfile\n",
      "  Downloading et_xmlfile-1.1.0-py3-none-any.whl (4.7 kB)\n",
      "Installing collected packages: et-xmlfile, openpyxl\n",
      "Successfully installed et-xmlfile-1.1.0 openpyxl-3.0.7\n"
     ]
    }
   ],
   "source": [
    "!pip install openpyxl"
   ]
  },
  {
   "cell_type": "code",
   "execution_count": 10,
   "id": "f5aac875",
   "metadata": {},
   "outputs": [
    {
     "name": "stdout",
     "output_type": "stream",
     "text": [
      "score_2011.xlsx\n",
      "                                                    0\n",
      "이름  [[에스쿱스, 정한, 죠슈아, 준, 호시, 원우, 우지, 도겸, 민규, 디에잇, 승...\n",
      "합계  [[460, 440, 480, 477, 444, 448, 449, 509, 453,...\n",
      "평균  [[76, 73, 80, 79, 74, 74, 74, 84, 75, 83, 79, ...\n",
      "                                                  이름  \\\n",
      "0  [[에스쿱스, 정한, 죠슈아, 준, 호시, 원우, 우지, 도겸, 민규, 디에잇, 승...   \n",
      "\n",
      "                                                  합계  \\\n",
      "0  [[460, 440, 480, 477, 444, 448, 449, 509, 453,...   \n",
      "\n",
      "                                                  평균  \n",
      "0  [[76, 73, 80, 79, 74, 74, 74, 84, 75, 83, 79, ...  \n",
      "                                                    0\n",
      "이름  [[에스쿱스, 정한, 죠슈아, 준, 호시, 원우, 우지, 도겸, 민규, 디에잇, 승...\n",
      "합계  [[460, 440, 480, 477, 444, 448, 449, 509, 453,...\n",
      "평균  [[76, 73, 80, 79, 74, 74, 74, 84, 75, 83, 79, ...\n",
      "                                                  이름  \\\n",
      "0  [[에스쿱스, 정한, 죠슈아, 준, 호시, 원우, 우지, 도겸, 민규, 디에잇, 승...   \n",
      "\n",
      "                                                  합계  \\\n",
      "0  [[460, 440, 480, 477, 444, 448, 449, 509, 453,...   \n",
      "\n",
      "                                                  평균  \n",
      "0  [[76, 73, 80, 79, 74, 74, 74, 84, 75, 83, 79, ...  \n",
      "score_2012.xlsx\n",
      "                                                    0\n",
      "이름  [[에스쿱스, 정한, 죠슈아, 준, 호시, 원우, 우지, 도겸, 민규, 디에잇, 승...\n",
      "합계  [[460, 440, 480, 477, 444, 448, 449, 509, 453,...\n",
      "평균  [[76, 73, 80, 79, 74, 74, 74, 84, 75, 83, 79, ...\n",
      "                                                  이름  \\\n",
      "0  [[에스쿱스, 정한, 죠슈아, 준, 호시, 원우, 우지, 도겸, 민규, 디에잇, 승...   \n",
      "\n",
      "                                                  합계  \\\n",
      "0  [[460, 440, 480, 477, 444, 448, 449, 509, 453,...   \n",
      "\n",
      "                                                  평균  \n",
      "0  [[76, 73, 80, 79, 74, 74, 74, 84, 75, 83, 79, ...  \n",
      "                                                    0\n",
      "이름  [[에스쿱스, 정한, 죠슈아, 준, 호시, 원우, 우지, 도겸, 민규, 디에잇, 승...\n",
      "합계  [[460, 440, 480, 477, 444, 448, 449, 509, 453,...\n",
      "평균  [[76, 73, 80, 79, 74, 74, 74, 84, 75, 83, 79, ...\n",
      "                                                  이름  \\\n",
      "0  [[에스쿱스, 정한, 죠슈아, 준, 호시, 원우, 우지, 도겸, 민규, 디에잇, 승...   \n",
      "\n",
      "                                                  합계  \\\n",
      "0  [[460, 440, 480, 477, 444, 448, 449, 509, 453,...   \n",
      "\n",
      "                                                  평균  \n",
      "0  [[76, 73, 80, 79, 74, 74, 74, 84, 75, 83, 79, ...  \n",
      "                                                    0\n",
      "이름  [[에스쿱스, 정한, 죠슈아, 준, 호시, 원우, 우지, 도겸, 민규, 디에잇, 승...\n",
      "합계  [[460, 440, 480, 477, 444, 448, 449, 509, 453,...\n",
      "평균  [[76, 73, 80, 79, 74, 74, 74, 84, 75, 83, 79, ...\n"
     ]
    },
    {
     "name": "stderr",
     "output_type": "stream",
     "text": [
      "C:\\Users\\teacher\\AppData\\Local\\Temp/ipykernel_11148/3856944132.py:22: FutureWarning: Dropping of nuisance columns in DataFrame reductions (with 'numeric_only=None') is deprecated; in a future version this will raise TypeError.  Select only valid columns before calling the reduction.\n",
      "  means = data.mean(axis=1).astype(int)\n",
      "C:\\Users\\teacher\\AppData\\Local\\Temp/ipykernel_11148/3856944132.py:23: FutureWarning: Dropping of nuisance columns in DataFrame reductions (with 'numeric_only=None') is deprecated; in a future version this will raise TypeError.  Select only valid columns before calling the reduction.\n",
      "  totals = data.sum(axis=1)\n",
      "C:\\Users\\teacher\\AppData\\Local\\Temp/ipykernel_11148/3856944132.py:22: FutureWarning: Dropping of nuisance columns in DataFrame reductions (with 'numeric_only=None') is deprecated; in a future version this will raise TypeError.  Select only valid columns before calling the reduction.\n",
      "  means = data.mean(axis=1).astype(int)\n",
      "C:\\Users\\teacher\\AppData\\Local\\Temp/ipykernel_11148/3856944132.py:23: FutureWarning: Dropping of nuisance columns in DataFrame reductions (with 'numeric_only=None') is deprecated; in a future version this will raise TypeError.  Select only valid columns before calling the reduction.\n",
      "  totals = data.sum(axis=1)\n",
      "C:\\Users\\teacher\\AppData\\Local\\Temp/ipykernel_11148/3856944132.py:22: FutureWarning: Dropping of nuisance columns in DataFrame reductions (with 'numeric_only=None') is deprecated; in a future version this will raise TypeError.  Select only valid columns before calling the reduction.\n",
      "  means = data.mean(axis=1).astype(int)\n",
      "C:\\Users\\teacher\\AppData\\Local\\Temp/ipykernel_11148/3856944132.py:23: FutureWarning: Dropping of nuisance columns in DataFrame reductions (with 'numeric_only=None') is deprecated; in a future version this will raise TypeError.  Select only valid columns before calling the reduction.\n",
      "  totals = data.sum(axis=1)\n",
      "C:\\Users\\teacher\\AppData\\Local\\Temp/ipykernel_11148/3856944132.py:22: FutureWarning: Dropping of nuisance columns in DataFrame reductions (with 'numeric_only=None') is deprecated; in a future version this will raise TypeError.  Select only valid columns before calling the reduction.\n",
      "  means = data.mean(axis=1).astype(int)\n",
      "C:\\Users\\teacher\\AppData\\Local\\Temp/ipykernel_11148/3856944132.py:23: FutureWarning: Dropping of nuisance columns in DataFrame reductions (with 'numeric_only=None') is deprecated; in a future version this will raise TypeError.  Select only valid columns before calling the reduction.\n",
      "  totals = data.sum(axis=1)\n"
     ]
    }
   ],
   "source": [
    "# 2021-07-19 질문\n",
    "import os\n",
    "import glob\n",
    "import pandas as pd\n",
    "\n",
    "all_books = glob.glob(os.path.join('C:\\\\sjlee\\\\python', 'score_*.xlsx'))\n",
    "names=[]\n",
    "cnt = 0\n",
    "writer=pd.ExcelWriter('total.xlsx')\n",
    "\n",
    "for book in all_books:\n",
    "    all_sheets = pd.read_excel(book, sheet_name=None, index_col=None)\n",
    "    print(os.path.basename(book))\n",
    "    total=[]\n",
    "    mean=[]\n",
    "    for name,data in all_sheets.items():\n",
    "        totals = 0\n",
    "        means = 0\n",
    "        if(cnt == 0):\n",
    "            names.append(data['이름'])\n",
    "            cnt += 1\n",
    "        means = data.mean(axis=1).astype(int)\n",
    "        totals = data.sum(axis=1)\n",
    "        total.append(totals)\n",
    "        mean.append(means)\n",
    "        pd1 = pd.DataFrame([[names],[total],[mean]],index = ['이름','합계','평균'])\n",
    "        pd2 = pd1.transpose()\n",
    "        print(pd1)\n",
    "        print(pd2)\n",
    "        pd1.to_excel(writer)\n",
    "\n",
    "print(pd1)"
   ]
  },
  {
   "cell_type": "code",
   "execution_count": null,
   "id": "d2a47b57",
   "metadata": {},
   "outputs": [],
   "source": []
  }
 ],
 "metadata": {
  "kernelspec": {
   "display_name": "Python 3 (ipykernel)",
   "language": "python",
   "name": "python3"
  },
  "language_info": {
   "codemirror_mode": {
    "name": "ipython",
    "version": 3
   },
   "file_extension": ".py",
   "mimetype": "text/x-python",
   "name": "python",
   "nbconvert_exporter": "python",
   "pygments_lexer": "ipython3",
   "version": "3.9.6"
  }
 },
 "nbformat": 4,
 "nbformat_minor": 5
}
