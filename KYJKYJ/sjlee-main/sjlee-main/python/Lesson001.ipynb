{
 "cells": [
  {
   "cell_type": "code",
   "execution_count": 2,
   "id": "00734382",
   "metadata": {},
   "outputs": [
    {
     "name": "stdout",
     "output_type": "stream",
     "text": [
      "Hello, Python\n"
     ]
    }
   ],
   "source": [
    "#파이썬을 이용한 프로그래밍 기초\n",
    "# Jupyter Notebook환경에서는 셀에 명령어를 입력하고\n",
    "# 실행한다.(Ctrl+Enter, Shift+Enter, Alt+Enter)\n",
    "print(\"Hello, Python\")"
   ]
  },
  {
   "cell_type": "code",
   "execution_count": 4,
   "id": "e579f1b7",
   "metadata": {},
   "outputs": [],
   "source": [
    "# 데이터의 선언과 사용  \n",
    "#     ===> 동적할당 가능 dynamic allocation\n",
    "# 파이썬에서는 필요에 따라 바로 사용한다.\n",
    "a = 10.1"
   ]
  },
  {
   "cell_type": "code",
   "execution_count": 5,
   "id": "50d32499",
   "metadata": {},
   "outputs": [],
   "source": [
    "# 표현가능한 숫자의 범위\n",
    "c = 12345678901234567890"
   ]
  },
  {
   "cell_type": "code",
   "execution_count": null,
   "id": "cd7448e4",
   "metadata": {},
   "outputs": [],
   "source": [
    "# 문자열의 표현\n",
    "mystring = \"korea\""
   ]
  },
  {
   "cell_type": "code",
   "execution_count": 1,
   "id": "0da6a0bf",
   "metadata": {},
   "outputs": [
    {
     "name": "stdout",
     "output_type": "stream",
     "text": [
      "This sentence is output to the screen\n"
     ]
    }
   ],
   "source": [
    "# 파이썬의 입출력문\n",
    "# 출력문\n",
    "print('This sentence is output to the screen')"
   ]
  },
  {
   "cell_type": "code",
   "execution_count": 2,
   "id": "e64e9788",
   "metadata": {},
   "outputs": [
    {
     "name": "stdout",
     "output_type": "stream",
     "text": [
      "The value of a is 5\n"
     ]
    }
   ],
   "source": [
    "# print()의 또 다른 예\n",
    "# 문자열과 변수값 동시 출력\n",
    "a = 5\n",
    "print('The value of a is', a)"
   ]
  },
  {
   "cell_type": "code",
   "execution_count": 6,
   "id": "1123230e",
   "metadata": {},
   "outputs": [
    {
     "name": "stdout",
     "output_type": "stream",
     "text": [
      "1 2 3 4\n",
      "1*2*3*4\n",
      "1#2#3#4&-----\n"
     ]
    }
   ],
   "source": [
    "# print()에서 sep와 end 사용\n",
    "print(1, 2, 3, 4)\n",
    "print(1, 2, 3, 4, sep='*')\n",
    "print(1, 2, 3, 4, sep='#', end='&')\n",
    "print('-----')"
   ]
  },
  {
   "cell_type": "code",
   "execution_count": 7,
   "id": "ddf0fadc",
   "metadata": {},
   "outputs": [
    {
     "name": "stdout",
     "output_type": "stream",
     "text": [
      "The value of x is 5 and y is 10\n"
     ]
    }
   ],
   "source": [
    "# 문자열.format 활용\n",
    "x = 5; y = 10\n",
    "print('The value of x is {} and y is {}'.format(x,y))"
   ]
  },
  {
   "cell_type": "code",
   "execution_count": 8,
   "id": "66b1c466",
   "metadata": {},
   "outputs": [
    {
     "name": "stdout",
     "output_type": "stream",
     "text": [
      "The value of x is 10 and y is 5\n"
     ]
    }
   ],
   "source": [
    "# 문자열.format 활용\n",
    "x = 5; y = 10\n",
    "print('The value of x is {} and y is {}'.format(y,x))"
   ]
  },
  {
   "cell_type": "code",
   "execution_count": 9,
   "id": "e7570c2b",
   "metadata": {},
   "outputs": [
    {
     "name": "stdout",
     "output_type": "stream",
     "text": [
      "The value of x is 5 and y is 10\n"
     ]
    }
   ],
   "source": [
    "# 문자열.format 활용\n",
    "print('The value of x is {x} and y is {y}'.format(y=10,x=5))"
   ]
  },
  {
   "cell_type": "code",
   "execution_count": 15,
   "id": "7cb8c883",
   "metadata": {},
   "outputs": [
    {
     "name": "stdout",
     "output_type": "stream",
     "text": [
      "print formatting... 10.00,  3.14\n"
     ]
    }
   ],
   "source": [
    "x = 10;y=3.14\n",
    "print('print formatting... %5.2f, %5.2f'%(x,y))"
   ]
  },
  {
   "cell_type": "code",
   "execution_count": 17,
   "id": "e44e8d21",
   "metadata": {},
   "outputs": [
    {
     "name": "stdout",
     "output_type": "stream",
     "text": [
      "숫자를 입력해주세요.123\n",
      "<class 'int'>\n"
     ]
    }
   ],
   "source": [
    "# Python Input\n",
    "# input()\n",
    "a=int(input(\"숫자를 입력해주세요.\"))\n",
    "print(type(a))"
   ]
  },
  {
   "cell_type": "code",
   "execution_count": 19,
   "id": "7b87981c",
   "metadata": {},
   "outputs": [
    {
     "name": "stdout",
     "output_type": "stream",
     "text": [
      "3.141592653589793\n",
      "2.718281828459045\n"
     ]
    }
   ],
   "source": [
    "# 파이썬의 모듈 임포트(가져오기)\n",
    "import math\n",
    "print(math.pi)\n",
    "print(math.e)"
   ]
  },
  {
   "cell_type": "code",
   "execution_count": 21,
   "id": "42704a24",
   "metadata": {},
   "outputs": [
    {
     "data": {
      "text/plain": [
       "['c:\\\\sjlee\\\\python',\n",
       " 'c:\\\\developer\\\\python39\\\\python39.zip',\n",
       " 'c:\\\\developer\\\\python39\\\\DLLs',\n",
       " 'c:\\\\developer\\\\python39\\\\lib',\n",
       " 'c:\\\\developer\\\\python39',\n",
       " '',\n",
       " 'c:\\\\developer\\\\python39\\\\lib\\\\site-packages',\n",
       " 'c:\\\\developer\\\\python39\\\\lib\\\\site-packages\\\\win32',\n",
       " 'c:\\\\developer\\\\python39\\\\lib\\\\site-packages\\\\win32\\\\lib',\n",
       " 'c:\\\\developer\\\\python39\\\\lib\\\\site-packages\\\\Pythonwin',\n",
       " 'c:\\\\developer\\\\python39\\\\lib\\\\site-packages\\\\IPython\\\\extensions',\n",
       " 'C:\\\\Users\\\\teacher\\\\.ipython']"
      ]
     },
     "execution_count": 21,
     "metadata": {},
     "output_type": "execute_result"
    }
   ],
   "source": [
    "import sys\n",
    "sys.path"
   ]
  },
  {
   "cell_type": "code",
   "execution_count": null,
   "id": "6d03340a",
   "metadata": {},
   "outputs": [],
   "source": []
  }
 ],
 "metadata": {
  "kernelspec": {
   "display_name": "Python 3 (ipykernel)",
   "language": "python",
   "name": "python3"
  },
  "language_info": {
   "codemirror_mode": {
    "name": "ipython",
    "version": 3
   },
   "file_extension": ".py",
   "mimetype": "text/x-python",
   "name": "python",
   "nbconvert_exporter": "python",
   "pygments_lexer": "ipython3",
   "version": "3.9.6"
  }
 },
 "nbformat": 4,
 "nbformat_minor": 5
}
